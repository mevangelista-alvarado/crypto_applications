{
  "nbformat": 4,
  "nbformat_minor": 0,
  "metadata": {
    "colab": {
      "provenance": [],
      "authorship_tag": "ABX9TyM1tjgMhNd06car1ooYPn9K",
      "include_colab_link": true
    },
    "kernelspec": {
      "name": "python3",
      "display_name": "Python 3"
    },
    "language_info": {
      "name": "python"
    }
  },
  "cells": [
    {
      "cell_type": "markdown",
      "metadata": {
        "id": "view-in-github",
        "colab_type": "text"
      },
      "source": [
        "<a href=\"https://colab.research.google.com/github/mevangelista-alvarado/crypto_applications/blob/main/FielToRSA.ipynb\" target=\"_parent\"><img src=\"https://colab.research.google.com/assets/colab-badge.svg\" alt=\"Open In Colab\"/></a>"
      ]
    },
    {
      "cell_type": "markdown",
      "source": [
        "# FIEL to RSA"
      ],
      "metadata": {
        "id": "C0_3Ar2IJbHt"
      }
    },
    {
      "cell_type": "markdown",
      "source": [
        "Estas funciones leen y cargan una llave pública (archivo .cer de la FIEL) en un objecto de RSA y verfica si la _signature_ fue firmada con la llave privada correspondiente."
      ],
      "metadata": {
        "id": "ELgletRfJgdv"
      }
    },
    {
      "cell_type": "markdown",
      "source": [
        "**Nota:** Esta funciones se probaron en 2020, por lo tanto pueden no funcionar y necesiten mantenimiento."
      ],
      "metadata": {
        "id": "BRaD3a2yJuf0"
      }
    },
    {
      "cell_type": "markdown",
      "source": [
        "## Implementación en Python"
      ],
      "metadata": {
        "id": "EpdWV5O8J8dV"
      }
    },
    {
      "cell_type": "markdown",
      "source": [
        "Instalamos el módulo `pycryptodome`"
      ],
      "metadata": {
        "id": "Qo4SPAjxK0yt"
      }
    },
    {
      "cell_type": "code",
      "source": [
        "!pip install pycryptodome"
      ],
      "metadata": {
        "id": "KMYVh0qZKxGu"
      },
      "execution_count": null,
      "outputs": []
    },
    {
      "cell_type": "markdown",
      "source": [
        "Importamos las librerías necesarias"
      ],
      "metadata": {
        "id": "-AlZJSUbIxdW"
      }
    },
    {
      "cell_type": "code",
      "execution_count": 6,
      "metadata": {
        "id": "gddib9bjIlxT"
      },
      "outputs": [],
      "source": [
        "from Crypto.PublicKey import RSA\n",
        "from Crypto.Hash import SHA256\n",
        "from Crypto.Signature import pkcs1_15\n",
        "import base64"
      ]
    },
    {
      "cell_type": "markdown",
      "source": [
        "### Leer una FIEL"
      ],
      "metadata": {
        "id": "WQKJMGptKCsP"
      }
    },
    {
      "cell_type": "markdown",
      "source": [
        "Este método lee el archivo `.cer` de la FIEL del SAT y lo convierte a un objeto RSA de `pycrypto`.  "
      ],
      "metadata": {
        "id": "-hhmvYoHI0i8"
      }
    },
    {
      "cell_type": "code",
      "source": [
        "# Read FIEL.cer\n",
        "def read_fiel_cer(directory_file):\n",
        "    try:\n",
        "        public_key = None\n",
        "        with open(directory_file + '.cer', 'rb') as f:\n",
        "            public_key = RSA.import_key(f.read())\n",
        "    except Exception as e:\n",
        "        print(f'[ERROR read_fiel_cer] {e}, Type:{type(e)}')\n",
        "\n",
        "    return public_key"
      ],
      "metadata": {
        "id": "h7U16JiFIpfC"
      },
      "execution_count": 4,
      "outputs": []
    },
    {
      "cell_type": "markdown",
      "source": [
        "### Verificar _Signature_ de una FIEL"
      ],
      "metadata": {
        "id": "UxpF38W1KG65"
      }
    },
    {
      "cell_type": "markdown",
      "source": [
        "Este método verifica que una _signature_ este firmada correctamente por la FIEL.  "
      ],
      "metadata": {
        "id": "8PyAIoAJJZ1f"
      }
    },
    {
      "cell_type": "code",
      "source": [
        "# verify sign\n",
        "def verify_fiel_sign(message_utf8, signature_b64, public_key):\n",
        "    message_hash = SHA256.new(message_utf8)\n",
        "    signature = base64.b64decode(signature_b64)\n",
        "    try:\n",
        "        pkcs1_15.new(public_key).verify(message_hash, signature)\n",
        "        return True\n",
        "    except Exception as e:\n",
        "        print(f'[ERROR verify_fiel_sign] {e}, Type:{type(e)}')\n",
        "        return False"
      ],
      "metadata": {
        "id": "yuNjQ2ZwIr-X"
      },
      "execution_count": 5,
      "outputs": []
    }
  ]
}