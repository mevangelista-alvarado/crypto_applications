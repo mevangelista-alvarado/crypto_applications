{
  "nbformat": 4,
  "nbformat_minor": 0,
  "metadata": {
    "colab": {
      "provenance": [],
      "authorship_tag": "ABX9TyPIuBTsjk2mxuOmBbijn3+2",
      "include_colab_link": true
    },
    "kernelspec": {
      "name": "python3",
      "display_name": "Python 3"
    },
    "language_info": {
      "name": "python"
    }
  },
  "cells": [
    {
      "cell_type": "markdown",
      "metadata": {
        "id": "view-in-github",
        "colab_type": "text"
      },
      "source": [
        "<a href=\"https://colab.research.google.com/github/mevangelista-alvarado/crypto_applications/blob/main/CrifradoDeHill.ipynb\" target=\"_parent\"><img src=\"https://colab.research.google.com/assets/colab-badge.svg\" alt=\"Open In Colab\"/></a>"
      ]
    },
    {
      "cell_type": "markdown",
      "source": [
        "## Cifrado de Hill"
      ],
      "metadata": {
        "id": "rJmfkXDW3__w"
      }
    },
    {
      "cell_type": "markdown",
      "source": [
        "El Cifrado Hill es un cifrado de sustitución basado en el Álgebra Lineal. Fue inventado por Lester S. Hill en 1929."
      ],
      "metadata": {
        "id": "3CBlpycUHJ0K"
      }
    },
    {
      "cell_type": "markdown",
      "source": [
        "## Algoritmo"
      ],
      "metadata": {
        "id": "AHi86_9SHRM6"
      }
    },
    {
      "cell_type": "markdown",
      "source": [
        "Cada letra está representada por un número. En particular podemos hacer la asignación $A = 0, B = 1, ..., Z = 27$"
      ],
      "metadata": {
        "id": "5u--md4UmWW6"
      }
    },
    {
      "cell_type": "code",
      "source": [
        "import numpy as np\n",
        "import random\n",
        "from sympy import Matrix\n",
        "\n",
        "diccionario_encrypt = {\n",
        "    'A': 0, 'B': 1, 'C': 2, 'D': 3, 'E': 4, 'F': 5, 'G': 6, 'H': 7, 'I': 8, 'J': 9, 'K': 10,\n",
        "    'L': 11, 'M': 12, 'N': 13, 'O': 14, 'P': 15, 'Q': 16, 'R': 17, 'S': 18, 'T': 19, 'U': 20,\n",
        "    'V': 21, 'W': 22, 'X': 23, 'Y': 24, 'Z': 25, '0':26, ' ': 27\n",
        "}\n",
        "\n",
        "diccionario_decrypt = {\n",
        "    '0' : 'A', '1': 'B', '2': 'C', '3': 'D', '4': 'E', '5': 'F', '6': 'G', '7': 'H', '8': 'I', '9': 'J', '10': 'K',\n",
        "    '11': 'L', '12': 'M', '13': 'N', '14': 'O', '15': 'P', '16': 'Q', '17': 'R', '18': 'S', '19': 'T', '20': 'U',\n",
        "    '21': 'V', '22': 'W', '23': 'X', '24': 'Y', '25': 'Z', '26': '0', '27': ' '\n",
        "}"
      ],
      "metadata": {
        "id": "f3BpmgMl4Bx3"
      },
      "execution_count": null,
      "outputs": []
    },
    {
      "cell_type": "markdown",
      "source": [
        "En este método nuestra llave será una matriz de tamaño de $n \\times n$\n",
        "\n",
        "$$\n",
        "  A_{n\\times n} =\n",
        "  \\left[ {\\begin{array}{cccc}\n",
        "    a_{11} & \\cdots & a_{1n}\\\\\n",
        "    \\vdots & \\ddots & \\vdots\\\\\n",
        "    a_{n1} & \\cdots & a_{nn}\\\\\n",
        "  \\end{array} } \\right] \\pmod{27}\n",
        "$$\n",
        "Es decir todos los elementos $a_{ij} \\in [0, 1, ..., 26]$"
      ],
      "metadata": {
        "id": "yHtqqPcSoCAp"
      }
    },
    {
      "cell_type": "markdown",
      "source": [
        "###### Encriptar"
      ],
      "metadata": {
        "id": "-vMbprvvvgeM"
      }
    },
    {
      "cell_type": "markdown",
      "source": [
        "Entonces la idea es utilizar\n",
        "$$A_{n\\times n} \\cdot x_{n\\times 1} = y_{n\\times 1} \\pmod{27}  $$\n",
        "\n",
        "donde $A$ es la llave, $x$ es el mensaje e $y$ es el mensaje encriptado."
      ],
      "metadata": {
        "id": "TtzPCTU7ptMg"
      }
    },
    {
      "cell_type": "markdown",
      "source": [
        "Si el tamaño del mensaje es mayor a $n$ se codifica en bloques de longitud $n$"
      ],
      "metadata": {
        "id": "s_n96js9s_xx"
      }
    },
    {
      "cell_type": "markdown",
      "source": [
        "###### Ejemplo\n",
        "Consideramos en el mensaje\n",
        "${\\displaystyle {\\begin{pmatrix}0\\\\2\\\\19\\end{pmatrix}} \\pmod{27}}$\n",
        "que es equivalente ACT\n",
        "\n",
        "\n",
        "y consideremos la siguiente matriz como llave\n",
        "${\\displaystyle {\\begin{pmatrix}6&24&1\\\\13&16&10\\\\20&17&15\\end{pmatrix}} \\pmod{27}}$\n",
        "\n",
        "entonces en mensaje cifrado es:\n",
        "\n",
        "${\\displaystyle {\\begin{pmatrix}6&24&1\\\\13&16&10\\\\20&17&15\\end{pmatrix}}{\\begin{pmatrix}0\\\\2\\\\19\\end{pmatrix}} = {\\begin{pmatrix}67\\\\222\\\\319\\end{pmatrix}}} \\equiv  {\\begin{pmatrix}15\\\\14\\\\7\\end{pmatrix} \\pmod{27}} $\n",
        "\n",
        "y el vector resultante es equivalnete a POH"
      ],
      "metadata": {
        "id": "NgKg7pUNtsmP"
      }
    },
    {
      "cell_type": "markdown",
      "source": [
        "##### Desencriptar"
      ],
      "metadata": {
        "id": "zRGQoOt8vNCz"
      }
    },
    {
      "cell_type": "markdown",
      "source": [
        "Para desencriptar, es la siguiente manera\n",
        "$$A^{-1}_{n\\times n}\\cdot y_{n\\times 1} = x_{n\\times 1} \\qquad \\pmod{27}$$\n",
        "\n",
        "donde $A$ es la llave, $x$ es el mensaje e $y$ es el mensaje encriptado."
      ],
      "metadata": {
        "id": "fylpgkQUvtyf"
      }
    },
    {
      "cell_type": "markdown",
      "source": [
        "###### Retomando el ejemplo"
      ],
      "metadata": {
        "id": "frk_raKpw7ez"
      }
    },
    {
      "cell_type": "markdown",
      "source": [
        "La inversa es\n",
        "${\\displaystyle A^{-1} = {\\begin{pmatrix}8&5&10\\\\21&8&21\\\\21&12&8\\end{pmatrix}}\\pmod {27}}$"
      ],
      "metadata": {
        "id": "AYgTwGQYvoG-"
      }
    },
    {
      "cell_type": "markdown",
      "source": [
        "Enconces mutiplicando la matriz inversa $A^{-1}$ por el mensaje encriptado $y$\n",
        "\n",
        "$${\\displaystyle {\\begin{pmatrix}8&5&10\\\\21&8&21\\\\21&12&8\\end{pmatrix}}{\\begin{pmatrix}15\\\\14\\\\7\\end{pmatrix}} = {\\begin{pmatrix}260\\\\574\\\\539\\end{pmatrix}} \\equiv {\\begin{pmatrix}0\\\\2\\\\19\\end{pmatrix}}{\\pmod {27}}}$$\n",
        "\n",
        "obtenemos el mensaje original $x$"
      ],
      "metadata": {
        "id": "O8uWSnpAxCqB"
      }
    },
    {
      "cell_type": "markdown",
      "source": [
        "## Implemenetacion en Python"
      ],
      "metadata": {
        "id": "2l7M5H4lHWgW"
      }
    },
    {
      "cell_type": "markdown",
      "source": [
        "\n",
        "**Observación:**\n",
        "\n",
        "Falta agregar una condición para determinar cuando una matriz en módulo 27 tiene un inversa. Por lo tanto, en algunas veces el codigo fallará por la matriz que se usa como llave es aleatoria."
      ],
      "metadata": {
        "id": "YecN-iMmydcl"
      }
    },
    {
      "cell_type": "code",
      "source": [
        "def hill_key(size):\n",
        "    matrix = []\n",
        "    L = []\n",
        "    # Relleno una lista con tantos valores aleatorios como elementos a rellenar en la matriz determinada por size (size * size)\n",
        "    for x in range(size * size):\n",
        "        L.append(random.randrange(28))\n",
        "    # Se crea la matrix clave con los valores generados, de tamaño size * size\n",
        "    matrix = np.array(L).reshape(size, size)\n",
        "    return matrix"
      ],
      "metadata": {
        "id": "bGrrPqce4fOg"
      },
      "execution_count": null,
      "outputs": []
    },
    {
      "cell_type": "code",
      "source": [
        "size = 2\n",
        "_hill_key = hill_key(size)\n",
        "_hill_key"
      ],
      "metadata": {
        "colab": {
          "base_uri": "https://localhost:8080/"
        },
        "id": "wrd8UnGS4_cu",
        "outputId": "324e6d5f-691b-423d-8dee-f56e1d8b7383"
      },
      "execution_count": null,
      "outputs": [
        {
          "output_type": "execute_result",
          "data": {
            "text/plain": [
              "array([[ 7, 26],\n",
              "       [25, 15]])"
            ]
          },
          "metadata": {},
          "execution_count": 200
        }
      ]
    },
    {
      "cell_type": "code",
      "source": [
        "def hill_cipher(message, key):\n",
        "    ciphertext = ''\n",
        "    matrix_mensaje = []\n",
        "    list_temp = []\n",
        "    cifrado_final = ''\n",
        "    ciphertext_temp = ''\n",
        "    cont = 0\n",
        "    message = message.upper()\n",
        "    # Si el tamaño del mensaje es menor o igual al tamaño de la clave\n",
        "    if len(message) <= len(key):\n",
        "        # Convertir el tamaño del mensaje al tamaño de la clave, si no es igual, se añaden 'X' hasta que sean iguales los tamaños.\n",
        "        while len(message) < len(key):\n",
        "            message = message + 'X'\n",
        "        # Crear la matriz para el mensaje\n",
        "        for i in range(0, len(message)):\n",
        "            matrix_mensaje.append(diccionario_encrypt[message[i]])\n",
        "        # Se crea la matriz\n",
        "        matrix_mensaje = np.array(matrix_mensaje)\n",
        "        # Se multiplica la matriz clave por la de mensaje\n",
        "        cifrado = np.matmul(key, matrix_mensaje)\n",
        "        # Se obtiene el modulo sobre el diccionario de cada celda\n",
        "        cifrado = cifrado % 28\n",
        "        # Se codifica de valores numericos a los del diccionario, añadiendo a ciphertext el valor en el diccionario pasandole como indice la i posicion de la variable cifrado\n",
        "        for i in range(0, len(cifrado)):\n",
        "            ciphertext += diccionario_decrypt[str(cifrado[i])]\n",
        "    else:\n",
        "    # Si el tamaño del mensaje es menor o igual al tamaño de la clave\n",
        "        # Si al dividir en trozos del tamaño de la clave, existe algun trozo que tiene menos caracteres que la long. de la clave se añaden tantas 'X' como falten\n",
        "        while len(message) % len(key) != 0:\n",
        "            message = message + 'X'\n",
        "        # Se troce el mensaje en subsstrings de tamaño len(key) y se alamcenan como valores de un array\n",
        "        matrix_mensaje = [message[i:i + len(key)] for i in range(0,\n",
        "                          len(message), len(key))]\n",
        "        # Para cada valor del array (grupo de caracteres de la longitud de la clave)\n",
        "        for bloque in matrix_mensaje:\n",
        "            # Crear la matriz para el bloque\n",
        "            for i in range(0, len(bloque)):\n",
        "                list_temp.append(diccionario_encrypt[bloque[i]])\n",
        "            # Se crea la matriz de ese bloque\n",
        "            matrix_encrypt = np.array(list_temp)\n",
        "            # Se multiplica la matriz clave por la del bloque\n",
        "            cifrado = np.matmul(key, matrix_encrypt)\n",
        "            # Se obtiene el modulo sobre el diccionario de cada celda\n",
        "            cifrado = cifrado % 28\n",
        "            # Se codifica de valores numericos a los del diccionario, añadiendo a ciphertext el valor en el diccionario pasandole como indice la i posicion de la variable cifrado\n",
        "            for i in range(0, len(cifrado)):\n",
        "                ciphertext_temp += diccionario_decrypt[str(cifrado[i])]\n",
        "            # Se inicializan las variables para el nuevo bloque\n",
        "            matrix_encrypt = []\n",
        "            list_temp = []\n",
        "        # Se añade el mensaje encriptado a la variable que contiene el mensaje encriptado completo\n",
        "        ciphertext = ciphertext_temp\n",
        "    return ciphertext"
      ],
      "metadata": {
        "id": "PDd3dpnh5F97"
      },
      "execution_count": null,
      "outputs": []
    },
    {
      "cell_type": "code",
      "source": [
        "mensaje = \"HOLA MUNDO\"\n",
        "mesaje_encriptado_hill = hill_cipher(mensaje, _hill_key)\n",
        "mesaje_encriptado_hill"
      ],
      "metadata": {
        "colab": {
          "base_uri": "https://localhost:8080/",
          "height": 35
        },
        "id": "O6nA4fV76rZw",
        "outputId": "ee27a20b-a06d-4862-c552-dcf7f7144e9d"
      },
      "execution_count": null,
      "outputs": [
        {
          "output_type": "execute_result",
          "data": {
            "text/plain": [
              "'VVVXZPCXVF'"
            ],
            "application/vnd.google.colaboratory.intrinsic+json": {
              "type": "string"
            }
          },
          "metadata": {},
          "execution_count": 202
        }
      ]
    },
    {
      "cell_type": "code",
      "source": [
        "def hill_decipher(message, key):\n",
        "    plaintext = ''\n",
        "    matrix_mensaje = []\n",
        "    plaintext_temp = ''\n",
        "    list_temp = []\n",
        "    matrix_inversa = []\n",
        "    matrix_mensaje = [message[i:i + len(key)] for i in range(0,\n",
        "                      len(message), len(key))]\n",
        "    # Se calcula la matriz inversa aplicando el modulo 41\n",
        "    matrix_inversa = Matrix(key).inv_mod(28)\n",
        "    # Se transforma en una matriz\n",
        "    matrix_inversa = np.array(matrix_inversa)\n",
        "    # Se pasan los elementos a float\n",
        "    matrix_inversa = matrix_inversa.astype(float)\n",
        "    # Para cada bloque\n",
        "    for bloque in matrix_mensaje:\n",
        "        # Se encripta el mensaje encriptado\n",
        "        for i in range(0, len(bloque)):\n",
        "            list_temp.append(diccionario_encrypt[bloque[i]])\n",
        "        # Se convierte a matriz\n",
        "        matrix_encrypt = np.array(list_temp)\n",
        "        # Se multiplica la matriz inversa por el bloque\n",
        "        cifrado = np.matmul(matrix_inversa, matrix_encrypt)\n",
        "        # Se le aplica a cada elemento el modulo indicado\n",
        "        cifrado = np.remainder(cifrado, 28).flatten()\n",
        "        # Se desencripta el mensaje\n",
        "        for i in range(0, len(cifrado)):\n",
        "            plaintext_temp += diccionario_decrypt[str(int(cifrado[i]))]\n",
        "        matrix_encrypt = []\n",
        "        list_temp = []\n",
        "    plaintext = plaintext_temp\n",
        "    # Se eleminan las X procedentes de su addicion en la encriptacion para tener bloques del tamaño de la clave\n",
        "    while plaintext[-1] == 'X':\n",
        "        plaintext = plaintext.rstrip(plaintext[-1])\n",
        "    return plaintext"
      ],
      "metadata": {
        "id": "aJZT8mmM65qj"
      },
      "execution_count": null,
      "outputs": []
    },
    {
      "cell_type": "code",
      "source": [
        "mesaje_desencriptado_hill = hill_decipher(mesaje_encriptado_hill, _hill_key)\n",
        "mesaje_desencriptado_hill"
      ],
      "metadata": {
        "colab": {
          "base_uri": "https://localhost:8080/",
          "height": 35
        },
        "id": "hwPrq7Sh7c2q",
        "outputId": "cd537894-8b96-404d-a708-2fb893681f22"
      },
      "execution_count": null,
      "outputs": [
        {
          "output_type": "execute_result",
          "data": {
            "text/plain": [
              "'HOLA MUNDO'"
            ],
            "application/vnd.google.colaboratory.intrinsic+json": {
              "type": "string"
            }
          },
          "metadata": {},
          "execution_count": 204
        }
      ]
    }
  ]
}